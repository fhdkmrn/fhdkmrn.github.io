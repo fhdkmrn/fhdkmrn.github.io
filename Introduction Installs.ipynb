{
 "cells": [
  {
   "cell_type": "code",
   "execution_count": 2,
   "metadata": {
    "collapsed": false
   },
   "outputs": [
    {
     "name": "stdout",
     "output_type": "stream",
     "text": [
      "Requirement already satisfied: numpy in /anaconda/lib/python3.5/site-packages\n",
      "Requirement already satisfied: scipy in /anaconda/lib/python3.5/site-packages\n",
      "Requirement already satisfied: numpy>=1.8.2 in /anaconda/lib/python3.5/site-packages (from scipy)\n",
      "Requirement already satisfied: scikit-learn in /anaconda/lib/python3.5/site-packages\n",
      "Requirement already satisfied: pandas in /anaconda/lib/python3.5/site-packages\n",
      "Requirement already satisfied: python-dateutil>=2 in /anaconda/lib/python3.5/site-packages (from pandas)\n",
      "Requirement already satisfied: pytz>=2011k in /anaconda/lib/python3.5/site-packages (from pandas)\n",
      "Requirement already satisfied: numpy>=1.7.0 in /anaconda/lib/python3.5/site-packages (from pandas)\n",
      "Requirement already satisfied: six>=1.5 in /anaconda/lib/python3.5/site-packages (from python-dateutil>=2->pandas)\n"
     ]
    }
   ],
   "source": [
    "!pip install numpy\n",
    "!pip install scipy\n",
    "!pip install scikit-learn\n",
    "!pip install pandas\n"
   ]
  },
  {
   "cell_type": "code",
   "execution_count": 3,
   "metadata": {
    "collapsed": true
   },
   "outputs": [],
   "source": [
    "import numpy as np"
   ]
  },
  {
   "cell_type": "code",
   "execution_count": 4,
   "metadata": {
    "collapsed": false
   },
   "outputs": [
    {
     "data": {
      "text/plain": [
       "array([1, 4, 9])"
      ]
     },
     "execution_count": 4,
     "metadata": {},
     "output_type": "execute_result"
    }
   ],
   "source": [
    "arr = np.array([1,4,9])\n",
    "arr"
   ]
  },
  {
   "cell_type": "code",
   "execution_count": 5,
   "metadata": {
    "collapsed": false
   },
   "outputs": [
    {
     "name": "stdout",
     "output_type": "stream",
     "text": [
      "[ 2  8 18]\n",
      "[ 1 16 81]\n"
     ]
    }
   ],
   "source": [
    "print(arr*2)\n",
    "print(arr*arr)"
   ]
  },
  {
   "cell_type": "code",
   "execution_count": 6,
   "metadata": {
    "collapsed": false
   },
   "outputs": [
    {
     "name": "stdout",
     "output_type": "stream",
     "text": [
      "4.66666666667 1 9\n"
     ]
    }
   ],
   "source": [
    "print(np.average(arr),np.min(arr),np.max(arr))"
   ]
  },
  {
   "cell_type": "code",
   "execution_count": 7,
   "metadata": {
    "collapsed": false
   },
   "outputs": [
    {
     "data": {
      "text/plain": [
       "array([ 0.84147098, -0.7568025 ,  0.41211849])"
      ]
     },
     "execution_count": 7,
     "metadata": {},
     "output_type": "execute_result"
    }
   ],
   "source": [
    "np.sin(arr)"
   ]
  },
  {
   "cell_type": "code",
   "execution_count": 8,
   "metadata": {
    "collapsed": false
   },
   "outputs": [
    {
     "data": {
      "text/plain": [
       "array([3, 5])"
      ]
     },
     "execution_count": 8,
     "metadata": {},
     "output_type": "execute_result"
    }
   ],
   "source": [
    "np.diff(arr)"
   ]
  },
  {
   "cell_type": "code",
   "execution_count": 9,
   "metadata": {
    "collapsed": false
   },
   "outputs": [
    {
     "data": {
      "text/plain": [
       "array([-0.86929956, -1.90923836,  0.0483562 , -1.40619573, -0.40086159,\n",
       "        0.07769516,  0.88443153,  0.97109691,  1.51571305,  0.51805783,\n",
       "       -1.21142007, -1.7332942 ,  0.12614607, -0.77362719,  0.33205732,\n",
       "        0.9722988 ,  0.52312884, -0.12369854,  0.02603646, -0.36677654,\n",
       "       -0.34918351, -0.03053965, -0.58278806,  1.842246  , -0.69546624,\n",
       "       -0.39291032,  0.88972114, -0.87750834, -0.08564519,  0.51800938,\n",
       "       -0.60380199, -0.45095785, -2.44852603,  0.78489925, -1.73259537,\n",
       "        0.39248694, -0.62742194, -0.2772183 ,  1.25160833,  0.72982457,\n",
       "       -1.43411813, -1.2282633 , -2.42811795,  1.62870444,  0.92549901,\n",
       "       -0.92291595,  0.39936111, -1.77104127, -0.43419296,  0.04942171,\n",
       "        0.29958921, -0.82219833, -1.392764  ,  0.29130574, -1.1977754 ,\n",
       "       -0.89996488, -0.41820971,  0.4695465 ,  0.0946487 ,  0.02166867,\n",
       "       -0.64347482,  0.20130238, -1.08571943,  0.55518878,  0.02574431,\n",
       "        0.49186351,  0.85471125,  0.67318451,  0.41263017,  0.25399839,\n",
       "       -1.15242478, -1.56816702,  0.10694356, -0.92500391, -0.99711854,\n",
       "       -1.4883052 , -0.55523218, -1.95876554,  1.01883345, -0.41178283,\n",
       "        0.00562397,  1.47108922,  0.74964344,  0.05949155, -1.48147863,\n",
       "        2.87063652,  0.00474637,  0.14856889, -0.61554808,  0.61371545,\n",
       "       -0.48442127, -0.04745089,  0.01233908,  0.5570339 , -0.77047634,\n",
       "        0.01770768, -0.43954881,  0.15111475,  0.56915143, -0.9023005 ])"
      ]
     },
     "execution_count": 9,
     "metadata": {},
     "output_type": "execute_result"
    }
   ],
   "source": [
    "np.random.randn(100)"
   ]
  },
  {
   "cell_type": "code",
   "execution_count": 10,
   "metadata": {
    "collapsed": false
   },
   "outputs": [
    {
     "data": {
      "text/plain": [
       "array([0, 1, 2, 3, 4, 5, 6, 7, 8, 9])"
      ]
     },
     "execution_count": 10,
     "metadata": {},
     "output_type": "execute_result"
    }
   ],
   "source": [
    "arange = np.arange(0,10,1)\n",
    "arange "
   ]
  },
  {
   "cell_type": "code",
   "execution_count": 11,
   "metadata": {
    "collapsed": false
   },
   "outputs": [
    {
     "data": {
      "text/plain": [
       "array([  1,   2,   4,   8,  16,  32,  64, 128, 256, 512])"
      ]
     },
     "execution_count": 11,
     "metadata": {},
     "output_type": "execute_result"
    }
   ],
   "source": [
    "2**arange"
   ]
  },
  {
   "cell_type": "code",
   "execution_count": 12,
   "metadata": {
    "collapsed": false
   },
   "outputs": [
    {
     "data": {
      "text/plain": [
       "array([[0, 1, 2, 3, 4],\n",
       "       [5, 6, 7, 8, 9]])"
      ]
     },
     "execution_count": 12,
     "metadata": {},
     "output_type": "execute_result"
    }
   ],
   "source": [
    "arange.reshape((2,5))"
   ]
  },
  {
   "cell_type": "code",
   "execution_count": null,
   "metadata": {
    "collapsed": true
   },
   "outputs": [],
   "source": [
    "import scipy.stats as stats"
   ]
  },
  {
   "cell_type": "markdown",
   "metadata": {},
   "source": [
    "https://docs.scipy.org/doc/scipy/reference/stats.html"
   ]
  },
  {
   "cell_type": "code",
   "execution_count": null,
   "metadata": {
    "collapsed": true
   },
   "outputs": [],
   "source": [
    "import pandas as pd"
   ]
  },
  {
   "cell_type": "markdown",
   "metadata": {},
   "source": [
    "https://pandas.pydata.org/pandas-docs/stable/10min.html"
   ]
  },
  {
   "cell_type": "markdown",
   "metadata": {
    "collapsed": true
   },
   "source": [
    "1+1"
   ]
  },
  {
   "cell_type": "markdown",
   "metadata": {},
   "source": [
    "Hello! "
   ]
  },
  {
   "cell_type": "code",
   "execution_count": 1,
   "metadata": {
    "collapsed": false
   },
   "outputs": [
    {
     "name": "stdout",
     "output_type": "stream",
     "text": [
      "2\n"
     ]
    },
    {
     "data": {
      "text/plain": [
       "2"
      ]
     },
     "execution_count": 1,
     "metadata": {},
     "output_type": "execute_result"
    }
   ],
   "source": [
    "def test(x):\n",
    "    print(x)\n",
    "    return x\n",
    "    \n",
    "test(2)"
   ]
  },
  {
   "cell_type": "code",
   "execution_count": null,
   "metadata": {
    "collapsed": true
   },
   "outputs": [],
   "source": []
  }
 ],
 "metadata": {
  "anaconda-cloud": {},
  "kernelspec": {
   "display_name": "Python [conda root]",
   "language": "python",
   "name": "conda-root-py"
  },
  "language_info": {
   "codemirror_mode": {
    "name": "ipython",
    "version": 3
   },
   "file_extension": ".py",
   "mimetype": "text/x-python",
   "name": "python",
   "nbconvert_exporter": "python",
   "pygments_lexer": "ipython3",
   "version": "3.5.2"
  }
 },
 "nbformat": 4,
 "nbformat_minor": 2
}
